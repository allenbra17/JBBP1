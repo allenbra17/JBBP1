{
 "cells": [
  {
   "cell_type": "code",
   "execution_count": null,
   "metadata": {},
   "outputs": [],
   "source": [
    "import pandas as pd"
   ]
  },
  {
   "cell_type": "code",
   "execution_count": null,
   "metadata": {},
   "outputs": [],
   "source": [
    "cars_df = pd.read_csv('CSV_Files/cars.csv')"
   ]
  },
  {
   "cell_type": "code",
   "execution_count": null,
   "metadata": {},
   "outputs": [],
   "source": [
    "final_cars_df = cars_df[cars_df['Identification.Make'].isna() == False]\n",
    "final_cars_df"
   ]
  },
  {
   "cell_type": "code",
   "execution_count": null,
   "metadata": {},
   "outputs": [],
   "source": [
    "final_cars_df.astype({'Length': 'float64', 'Width': 'float64', 'Height': 'float64'}).dtypes"
   ]
  },
  {
   "cell_type": "code",
   "execution_count": null,
   "metadata": {},
   "outputs": [],
   "source": [
    "cars = pd.DataFrame(final_cars_df)\n",
    "cars.head()"
   ]
  },
  {
   "cell_type": "code",
   "execution_count": null,
   "metadata": {},
   "outputs": [],
   "source": [
    "car_data_df = pd.read_csv('CSV_Files/car_data.csv')\n",
    "car_data_df.head()"
   ]
  },
  {
   "cell_type": "code",
   "execution_count": null,
   "metadata": {},
   "outputs": [],
   "source": [
    "final_car_data_df = car_data_df[car_data_df['make'].isna() == False]\n",
    "#final_car_data_df.columns"
   ]
  },
  {
   "cell_type": "code",
   "execution_count": null,
   "metadata": {},
   "outputs": [],
   "source": [
    "final_car_data_df.dtypes"
   ]
  },
  {
   "cell_type": "code",
   "execution_count": null,
   "metadata": {},
   "outputs": [],
   "source": [
    "#final_cars_df.count()\n",
    "\n",
    "final_car_data_df.rename(columns={'make':'Make', \n",
    "                              'fuel_type' :'Engine_Type', \n",
    "                              'aspiration' : 'Aspiration', \n",
    "                              'num_of_doors' : 'Number of Doors', \n",
    "                              'body_style' : \"Body Style\",\n",
    "                              'drive_wheels': 'Drivetrain',\n",
    "                              'engine_location' : 'Engine_Location',\n",
    "                              'wheel_base' : 'Wheel Base', \n",
    "                              'length': 'Length', \n",
    "                              'width':'Width',\n",
    "                              'height' : 'Height', \n",
    "                              'curb_weight' : 'Weight', \n",
    "                              'engine_type' : 'Engine Type', \n",
    "                              'num_of_cylinders' : 'Numner_Cylinders',\n",
    "                              'engine_size': 'Engine Size', \n",
    "                              'fuel_system' : 'Fuel System', \n",
    "                              'compression_ratio' : 'Compression Ratio', \n",
    "                              'horsepower' : 'Horsepower',\n",
    "                              'peak_rpm' : 'Peak_RPM', \n",
    "                              'city_mpg' : 'City_MPG', \n",
    "                              'highway_mpg' : 'Highway_MPG', \n",
    "                              'price' : 'Price'},  inplace=True)\n",
    "final_car_data_df.dtypes"
   ]
  },
  {
   "cell_type": "code",
   "execution_count": null,
   "metadata": {},
   "outputs": [],
   "source": [
    "car = pd.DataFrame(final_car_data_df)\n",
    "car"
   ]
  },
  {
   "cell_type": "code",
   "execution_count": null,
   "metadata": {},
   "outputs": [],
   "source": [
    "final_df = pd.merge(cars, car, on=['Make', \n",
    "                                   'Engine_Type', \n",
    "                                   'Drivetrain', \n",
    "                                   'Length', \n",
    "                                   'Width', \n",
    "                                   'Height', \n",
    "                                   'City_MPG', \n",
    "                                   'Highway_MPG' ], how='outer')\n",
    "final_df"
   ]
  },
  {
   "cell_type": "code",
   "execution_count": null,
   "metadata": {},
   "outputs": [],
   "source": [
    "final_df['Size'] = final_df.Height * final_df.Length * final_df.Width\n",
    "final_df['Average_MPG']=final_df.City_MPG+final_df.Highway_MPG/2\n",
    "final_df = final_df.set_index(\"Size\")\n",
    "final_df.head()"
   ]
  },
  {
   "cell_type": "code",
   "execution_count": null,
   "metadata": {},
   "outputs": [],
   "source": [
    "\n",
    "final_df[['City_MPG', 'Highway_MPG','Average_MPG']]\n",
    "\n",
    "size = final_df.groupby(['Size'])\n",
    "size.count().head(10)\n",
    "\n",
    "city_mpg = size[\"City_MPG\"].mean()\n",
    "#city_mpg\n",
    "\n",
    "highway_mpg = size[\"Highway_MPG\"].mean()\n",
    "#highway_mpg\n",
    "\n",
    "overall_mpg=size[\"Average_MPG\"].mean()\n",
    "\n",
    "size_mpg = pd.DataFrame({\"Average City MPG\": city_mpg, \n",
    "                         \"Average Highway MPG\": highway_mpg,\n",
    "                        \"Average_MPG\":overall_mpg})\n",
    "size_mpg\n",
    "\n",
    "size_mpg.index.name = 'Size Inch^3'\n",
    "size_mpg"
   ]
  },
  {
   "cell_type": "code",
   "execution_count": null,
   "metadata": {},
   "outputs": [],
   "source": []
  },
  {
   "cell_type": "code",
   "execution_count": null,
   "metadata": {},
   "outputs": [],
   "source": []
  },
  {
   "cell_type": "code",
   "execution_count": null,
   "metadata": {},
   "outputs": [],
   "source": []
  },
  {
   "cell_type": "code",
   "execution_count": null,
   "metadata": {},
   "outputs": [],
   "source": []
  },
  {
   "cell_type": "code",
   "execution_count": null,
   "metadata": {},
   "outputs": [],
   "source": []
  },
  {
   "cell_type": "code",
   "execution_count": null,
   "metadata": {},
   "outputs": [],
   "source": []
  }
 ],
 "metadata": {
  "kernelspec": {
   "display_name": "Python [conda env:PythonData] *",
   "language": "python",
   "name": "conda-env-PythonData-py"
  },
  "language_info": {
   "codemirror_mode": {
    "name": "ipython",
    "version": 3
   },
   "file_extension": ".py",
   "mimetype": "text/x-python",
   "name": "python",
   "nbconvert_exporter": "python",
   "pygments_lexer": "ipython3",
   "version": "3.8.5"
  }
 },
 "nbformat": 4,
 "nbformat_minor": 4
}
